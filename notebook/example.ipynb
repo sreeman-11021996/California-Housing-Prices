{
 "cells": [
  {
   "cell_type": "code",
   "execution_count": 1,
   "metadata": {},
   "outputs": [],
   "source": [
    "from collections import namedtuple"
   ]
  },
  {
   "cell_type": "markdown",
   "metadata": {},
   "source": [
    "   DataIngestionConfig:\n",
    "1. Download url\n",
    "2. Download folder (Compressed file)\n",
    "3. Extract folder (Extracted file)\n",
    "4. Train Dataset Folder\n",
    "5. Test Dataset Folder"
   ]
  },
  {
   "cell_type": "code",
   "execution_count": 2,
   "metadata": {},
   "outputs": [],
   "source": [
    "DataIngestionConfig = namedtuple(\"DataIngestionConfig\",\n",
    "[\"dataet_download_url\",\"tgz_download_dir\",\"raw_data_dir\",\"ingested_train_dir\",\n",
    "\"ingested_testdir\"])"
   ]
  },
  {
   "cell_type": "code",
   "execution_count": 3,
   "metadata": {},
   "outputs": [],
   "source": [
    "data_ingestion_config = DataIngestionConfig(\n",
    "    dataet_download_url=\"kdjnfsdkljh\",tgz_download_dir=\"sjdhka0\",\n",
    "    raw_data_dir=\"jsdghfksdf\",ingested_train_dir=\"sdjghjf\",ingested_testdir=\"jsdghf\")"
   ]
  },
  {
   "cell_type": "code",
   "execution_count": 4,
   "metadata": {},
   "outputs": [
    {
     "data": {
      "text/plain": [
       "DataIngestionConfig(dataet_download_url='kdjnfsdkljh', tgz_download_dir='sjdhka0', raw_data_dir='jsdghfksdf', ingested_train_dir='sdjghjf', ingested_testdir='jsdghf')"
      ]
     },
     "execution_count": 4,
     "metadata": {},
     "output_type": "execute_result"
    }
   ],
   "source": [
    "data_ingestion_config"
   ]
  },
  {
   "cell_type": "code",
   "execution_count": 5,
   "metadata": {},
   "outputs": [],
   "source": [
    "import yaml"
   ]
  },
  {
   "cell_type": "code",
   "execution_count": 2,
   "metadata": {},
   "outputs": [],
   "source": [
    "import os"
   ]
  },
  {
   "cell_type": "code",
   "execution_count": 3,
   "metadata": {},
   "outputs": [
    {
     "data": {
      "text/plain": [
       "'C:\\\\Users\\\\SREEMAN\\\\AI_and_Machine_Learning\\\\1. iNeuron\\\\08. ML project\\\\Mahcine_learning_project\\\\notebook'"
      ]
     },
     "execution_count": 3,
     "metadata": {},
     "output_type": "execute_result"
    }
   ],
   "source": [
    "os.getcwd()"
   ]
  },
  {
   "cell_type": "code",
   "execution_count": 5,
   "metadata": {},
   "outputs": [
    {
     "data": {
      "text/plain": [
       "'c:\\\\Users\\\\SREEMAN\\\\AI_and_Machine_Learning\\\\1. iNeuron\\\\08. ML project\\\\Mahcine_learning_project'"
      ]
     },
     "execution_count": 5,
     "metadata": {},
     "output_type": "execute_result"
    }
   ],
   "source": [
    "os.getcwd()"
   ]
  },
  {
   "cell_type": "code",
   "execution_count": 6,
   "metadata": {},
   "outputs": [],
   "source": [
    "config_file_path = os.path.join(\"config\",\"config.yaml\")"
   ]
  },
  {
   "cell_type": "code",
   "execution_count": 7,
   "metadata": {},
   "outputs": [
    {
     "data": {
      "text/plain": [
       "'config\\\\config.yaml'"
      ]
     },
     "execution_count": 7,
     "metadata": {},
     "output_type": "execute_result"
    }
   ],
   "source": [
    "config_file_path"
   ]
  },
  {
   "cell_type": "code",
   "execution_count": 8,
   "metadata": {},
   "outputs": [],
   "source": [
    "config_info = None\n",
    "with open(config_file_path,\"rb\") as yaml_file:\n",
    "    config_info = yaml.safe_load(yaml_file)"
   ]
  },
  {
   "cell_type": "code",
   "execution_count": 10,
   "metadata": {},
   "outputs": [
    {
     "data": {
      "text/plain": [
       "{'dataset_download_url': 'https://raw.githubusercontent.com/ageron/handson-ml/master/datasets/housing/housing.tgz',\n",
       " 'raw_data_dir': 'raw_data',\n",
       " 'tgz_download_dir': 'tgz_data',\n",
       " 'ingested_dir': 'ingested_data',\n",
       " 'ingested_train_dir': 'train',\n",
       " 'ingested_test_dir': 'test'}"
      ]
     },
     "execution_count": 10,
     "metadata": {},
     "output_type": "execute_result"
    }
   ],
   "source": [
    "config_info[\"data_ingestion_config\"]"
   ]
  },
  {
   "cell_type": "code",
   "execution_count": 11,
   "metadata": {},
   "outputs": [],
   "source": [
    "\n",
    "def read_yaml_file (file_path:str) -> dict:\n",
    "    \"\"\"\n",
    "    Reads a YAML file and returns the contents as a dictionary\n",
    "    file_path: str\n",
    "    \"\"\"\n",
    "    with open(file_path, \"rb\") as yaml_file:\n",
    "        return yaml.safe_load(yaml_file)"
   ]
  },
  {
   "cell_type": "code",
   "execution_count": 10,
   "metadata": {},
   "outputs": [],
   "source": [
    "from housing.constant import *"
   ]
  },
  {
   "cell_type": "code",
   "execution_count": 11,
   "metadata": {},
   "outputs": [
    {
     "data": {
      "text/plain": [
       "'c:\\\\Users\\\\SREEMAN\\\\AI_and_Machine_Learning\\\\1. iNeuron\\\\08. ML project\\\\Mahcine_learning_project'"
      ]
     },
     "execution_count": 11,
     "metadata": {},
     "output_type": "execute_result"
    }
   ],
   "source": [
    "ROOT_DIR"
   ]
  },
  {
   "cell_type": "code",
   "execution_count": 1,
   "metadata": {},
   "outputs": [],
   "source": [
    "import os"
   ]
  },
  {
   "cell_type": "code",
   "execution_count": 2,
   "metadata": {},
   "outputs": [],
   "source": [
    "os.chdir(\"c:\\\\Users\\\\SREEMAN\\\\AI_and_Machine_Learning\\\\1. iNeuron\\\\08. ML project\\\\Mahcine_learning_project\")"
   ]
  },
  {
   "cell_type": "code",
   "execution_count": 3,
   "metadata": {},
   "outputs": [
    {
     "data": {
      "text/plain": [
       "'c:\\\\Users\\\\SREEMAN\\\\AI_and_Machine_Learning\\\\1. iNeuron\\\\08. ML project\\\\Mahcine_learning_project'"
      ]
     },
     "execution_count": 3,
     "metadata": {},
     "output_type": "execute_result"
    }
   ],
   "source": [
    "os.getcwd()"
   ]
  },
  {
   "cell_type": "code",
   "execution_count": 4,
   "metadata": {},
   "outputs": [],
   "source": [
    "import housing.config.configuration as config"
   ]
  },
  {
   "cell_type": "code",
   "execution_count": 5,
   "metadata": {},
   "outputs": [],
   "source": [
    "config = config.Configuration()"
   ]
  },
  {
   "cell_type": "code",
   "execution_count": 6,
   "metadata": {},
   "outputs": [
    {
     "data": {
      "text/plain": [
       "DataIngestionConfig(dataset_download_url='https://raw.githubusercontent.com/ageron/handson-ml/master/datasets/housing/housing.tgz', tgz_download_dir='c:\\\\Users\\\\SREEMAN\\\\AI_and_Machine_Learning\\\\1. iNeuron\\\\08. ML project\\\\Mahcine_learning_project\\\\housing\\\\artifact\\\\data_ingestion\\\\2022-07-01-18-29-38\\\\tgz_data', raw_data_dir='c:\\\\Users\\\\SREEMAN\\\\AI_and_Machine_Learning\\\\1. iNeuron\\\\08. ML project\\\\Mahcine_learning_project\\\\housing\\\\artifact\\\\data_ingestion\\\\2022-07-01-18-29-38\\\\raw_data', ingested_train_dir='c:\\\\Users\\\\SREEMAN\\\\AI_and_Machine_Learning\\\\1. iNeuron\\\\08. ML project\\\\Mahcine_learning_project\\\\housing\\\\artifact\\\\data_ingestion\\\\2022-07-01-18-29-38\\\\ingested_data\\\\train', ingested_test_dir='c:\\\\Users\\\\SREEMAN\\\\AI_and_Machine_Learning\\\\1. iNeuron\\\\08. ML project\\\\Mahcine_learning_project\\\\housing\\\\artifact\\\\data_ingestion\\\\2022-07-01-18-29-38\\\\ingested_data\\\\test')"
      ]
     },
     "execution_count": 6,
     "metadata": {},
     "output_type": "execute_result"
    }
   ],
   "source": [
    "config.get_data_ingestion_config()"
   ]
  },
  {
   "cell_type": "code",
   "execution_count": 7,
   "metadata": {},
   "outputs": [
    {
     "data": {
      "text/plain": [
       "DataValidationConfig(schema_file_path='c:\\\\Users\\\\SREEMAN\\\\AI_and_Machine_Learning\\\\1. iNeuron\\\\08. ML project\\\\Mahcine_learning_project\\\\housing\\\\artifact\\\\data_validation\\\\2022-07-01-18-29-38\\\\schema.yaml')"
      ]
     },
     "execution_count": 7,
     "metadata": {},
     "output_type": "execute_result"
    }
   ],
   "source": [
    "config.get_data_validation_config()"
   ]
  },
  {
   "cell_type": "code",
   "execution_count": 8,
   "metadata": {},
   "outputs": [
    {
     "data": {
      "text/plain": [
       "DataTransformationConfig(add_bedroom_per_room=True, transformed_train_dir='c:\\\\Users\\\\SREEMAN\\\\AI_and_Machine_Learning\\\\1. iNeuron\\\\08. ML project\\\\Mahcine_learning_project\\\\housing\\\\artifact\\\\data_transformation\\\\2022-07-01-18-29-38\\\\transformed_data\\\\train', transformed_test_dir='c:\\\\Users\\\\SREEMAN\\\\AI_and_Machine_Learning\\\\1. iNeuron\\\\08. ML project\\\\Mahcine_learning_project\\\\housing\\\\artifact\\\\data_transformation\\\\2022-07-01-18-29-38\\\\transformed_data\\\\test', preprocessed_object_file_path='c:\\\\Users\\\\SREEMAN\\\\AI_and_Machine_Learning\\\\1. iNeuron\\\\08. ML project\\\\Mahcine_learning_project\\\\housing\\\\artifact\\\\data_transformation\\\\2022-07-01-18-29-38\\\\preprocessed\\\\preprocessed.pkl')"
      ]
     },
     "execution_count": 8,
     "metadata": {},
     "output_type": "execute_result"
    }
   ],
   "source": [
    "config.get_data_tranformation_config()"
   ]
  },
  {
   "cell_type": "code",
   "execution_count": 9,
   "metadata": {},
   "outputs": [
    {
     "data": {
      "text/plain": [
       "ModelTrainerConfig(trained_model_file_path='c:\\\\Users\\\\SREEMAN\\\\AI_and_Machine_Learning\\\\1. iNeuron\\\\08. ML project\\\\Mahcine_learning_project\\\\housing\\\\artifact\\\\model_trainer\\\\2022-07-01-18-29-38\\\\trained_model\\\\model.pkl', base_accuracy=0.6)"
      ]
     },
     "execution_count": 9,
     "metadata": {},
     "output_type": "execute_result"
    }
   ],
   "source": [
    "config.get_model_trainer_config()"
   ]
  },
  {
   "cell_type": "code",
   "execution_count": 10,
   "metadata": {},
   "outputs": [
    {
     "data": {
      "text/plain": [
       "ModelEvaluationConfig(model_evaluation_file_path='c:\\\\Users\\\\SREEMAN\\\\AI_and_Machine_Learning\\\\1. iNeuron\\\\08. ML project\\\\Mahcine_learning_project\\\\housing\\\\artifact\\\\model_evaluation\\\\2022-07-01-18-29-38\\\\model_evaluation.yaml', time_stamp='2022-07-01-18-29-38')"
      ]
     },
     "execution_count": 10,
     "metadata": {},
     "output_type": "execute_result"
    }
   ],
   "source": [
    "config.get_model_evaluation_config()"
   ]
  },
  {
   "cell_type": "code",
   "execution_count": 11,
   "metadata": {},
   "outputs": [
    {
     "data": {
      "text/plain": [
       "TrainingPipelineConfig(artifact_dir='c:\\\\Users\\\\SREEMAN\\\\AI_and_Machine_Learning\\\\1. iNeuron\\\\08. ML project\\\\Mahcine_learning_project\\\\housing\\\\artifact')"
      ]
     },
     "execution_count": 11,
     "metadata": {},
     "output_type": "execute_result"
    }
   ],
   "source": [
    "config.get_training_pipeline_config()"
   ]
  },
  {
   "cell_type": "code",
   "execution_count": 12,
   "metadata": {},
   "outputs": [
    {
     "data": {
      "text/plain": [
       "ModelPusherConfig(model_export_dir_path='c:\\\\Users\\\\SREEMAN\\\\AI_and_Machine_Learning\\\\1. iNeuron\\\\08. ML project\\\\Mahcine_learning_project\\\\housing\\\\artifact\\\\model_pusher\\\\2022-07-01-18-29-38\\\\saved_models')"
      ]
     },
     "execution_count": 12,
     "metadata": {},
     "output_type": "execute_result"
    }
   ],
   "source": [
    "config.get_model_pusher_config()"
   ]
  },
  {
   "cell_type": "code",
   "execution_count": null,
   "metadata": {},
   "outputs": [],
   "source": []
  }
 ],
 "metadata": {
  "kernelspec": {
   "display_name": "Python 3",
   "language": "python",
   "name": "python3"
  },
  "language_info": {
   "codemirror_mode": {
    "name": "ipython",
    "version": 3
   },
   "file_extension": ".py",
   "mimetype": "text/x-python",
   "name": "python",
   "nbconvert_exporter": "python",
   "pygments_lexer": "ipython3",
   "version": "3.7.0"
  },
  "vscode": {
   "interpreter": {
    "hash": "f4e04ff7fef646586f307400ab91e546bc36f090a1d5cf5b0724e6d7df31f0fe"
   }
  }
 },
 "nbformat": 4,
 "nbformat_minor": 2
}
