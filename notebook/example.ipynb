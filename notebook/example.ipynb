{
 "cells": [
  {
   "cell_type": "code",
   "execution_count": 1,
   "metadata": {},
   "outputs": [],
   "source": [
    "from collections import namedtuple"
   ]
  },
  {
   "cell_type": "markdown",
   "metadata": {},
   "source": [
    "   DataIngestionConfig:\n",
    "1. Download url\n",
    "2. Download folder (Compressed file)\n",
    "3. Extract folder (Extracted file)\n",
    "4. Train Dataset Folder\n",
    "5. Test Dataset Folder"
   ]
  },
  {
   "cell_type": "code",
   "execution_count": 7,
   "metadata": {},
   "outputs": [],
   "source": [
    "DataIngestionConfig = namedtuple(\"DataIngestionConfig\",\n",
    "[\"dataet_download_url\",\"tgz_download_dir\",\"raw_data_dir\",\"ingested_train_dir\",\n",
    "\"ingested_testdir\"])"
   ]
  },
  {
   "cell_type": "code",
   "execution_count": 8,
   "metadata": {},
   "outputs": [],
   "source": [
    "data_ingestion_config = DataIngestionConfig(\n",
    "    dataet_download_url=\"kdjnfsdkljh\",tgz_download_dir=\"sjdhka0\",\n",
    "    raw_data_dir=\"jsdghfksdf\",ingested_train_dir=\"sdjghjf\",ingested_testdir=\"jsdghf\")"
   ]
  },
  {
   "cell_type": "code",
   "execution_count": 9,
   "metadata": {},
   "outputs": [
    {
     "data": {
      "text/plain": [
       "DataIngestionConfig(dataet_download_url='kdjnfsdkljh', tgz_download_dir='sjdhka0', raw_data_dir='jsdghfksdf', ingested_train_dir='sdjghjf', ingested_testdir='jsdghf')"
      ]
     },
     "execution_count": 9,
     "metadata": {},
     "output_type": "execute_result"
    }
   ],
   "source": [
    "data_ingestion_config"
   ]
  },
  {
   "cell_type": "code",
   "execution_count": null,
   "metadata": {},
   "outputs": [],
   "source": []
  }
 ],
 "metadata": {
  "kernelspec": {
   "display_name": "Python 3.7.0 (conda)",
   "language": "python",
   "name": "python3"
  },
  "language_info": {
   "codemirror_mode": {
    "name": "ipython",
    "version": 3
   },
   "file_extension": ".py",
   "mimetype": "text/x-python",
   "name": "python",
   "nbconvert_exporter": "python",
   "pygments_lexer": "ipython3",
   "version": "3.7.0"
  },
  "orig_nbformat": 4,
  "vscode": {
   "interpreter": {
    "hash": "f4e04ff7fef646586f307400ab91e546bc36f090a1d5cf5b0724e6d7df31f0fe"
   }
  }
 },
 "nbformat": 4,
 "nbformat_minor": 2
}
